{
  "nbformat": 4,
  "nbformat_minor": 0,
  "metadata": {
    "colab": {
      "name": "Untitled3.ipynb",
      "provenance": [],
      "collapsed_sections": []
    },
    "kernelspec": {
      "name": "python3",
      "display_name": "Python 3"
    },
    "language_info": {
      "name": "python"
    },
    "accelerator": "GPU",
    "gpuClass": "standard"
  },
  "cells": [
    {
      "cell_type": "code",
      "execution_count": 1,
      "metadata": {
        "id": "zZq4x_GQ7wnA"
      },
      "outputs": [],
      "source": [
        "from google.colab import files"
      ]
    },
    {
      "cell_type": "code",
      "source": [
        ""
      ],
      "metadata": {
        "id": "u0CWPySp8BB3"
      },
      "execution_count": 1,
      "outputs": []
    },
    {
      "cell_type": "code",
      "source": [
        "from tensorflow.keras.preprocessing.image import ImageDataGenerator\n",
        "import tensorflow as tf\n",
        "from tensorflow import keras"
      ],
      "metadata": {
        "id": "eFqqMy-I8Evx"
      },
      "execution_count": 2,
      "outputs": []
    },
    {
      "cell_type": "code",
      "source": [
        "train_dir = '/content/drive/MyDrive/Colab Notebooks/HED/HED/'"
      ],
      "metadata": {
        "id": "uRnKacCj8sta"
      },
      "execution_count": 3,
      "outputs": []
    },
    {
      "cell_type": "code",
      "source": [
        "train_datagen = ImageDataGenerator(rescale=1./255,rotation_range=40,shear_range=0.2,width_shift_range=0.2,zoom_range=0.2,horizontal_flip=True)"
      ],
      "metadata": {
        "id": "ZAD5m3Pt9GfF"
      },
      "execution_count": 16,
      "outputs": []
    },
    {
      "cell_type": "code",
      "source": [
        "train_generator = train_datagen.flow_from_directory(train_dir,target_size=(224,224),class_mode='binary',batch_size=10)"
      ],
      "metadata": {
        "colab": {
          "base_uri": "https://localhost:8080/"
        },
        "id": "ZVJoZDIJ-ZKV",
        "outputId": "dc7cd17d-f469-4df8-c87d-80f17cc7cc73"
      },
      "execution_count": 22,
      "outputs": [
        {
          "output_type": "stream",
          "name": "stdout",
          "text": [
            "Found 24 images belonging to 2 classes.\n"
          ]
        }
      ]
    },
    {
      "cell_type": "code",
      "source": [
        "model = tf.keras.models.Sequential([ \n",
        "    tf.keras.layers.Conv2D(16, (3,3), activation='relu', input_shape=(224,224, 3)),\n",
        "    tf.keras.layers.MaxPooling2D(2,2),\n",
        "    tf.keras.layers.Conv2D(32, (3,3), activation='relu'),\n",
        "    tf.keras.layers.MaxPooling2D(2,2), \n",
        "    tf.keras.layers.Conv2D(64, (3,3), activation='relu'), \n",
        "    tf.keras.layers.MaxPooling2D(2,2),\n",
        "\n",
        "    tf.keras.layers.Flatten(), \n",
        "    # 512 neuron hidden layer\n",
        "    tf.keras.layers.Dense(512, activation='relu'), \n",
        "    # Only 1 output neuron. It will contain a value from 0-1 where 0 for 1 class ('cats') and 1 for the other ('dogs')\n",
        "    tf.keras.layers.Dense(1, activation='sigmoid')\n",
        "  ])\n"
      ],
      "metadata": {
        "id": "zgP-mrp7_IZ0"
      },
      "execution_count": 27,
      "outputs": []
    },
    {
      "cell_type": "code",
      "source": [
        "model.summary()"
      ],
      "metadata": {
        "colab": {
          "base_uri": "https://localhost:8080/"
        },
        "id": "j0H__YA8AzHm",
        "outputId": "91b38877-e113-49fa-a913-0c907f705b9d"
      },
      "execution_count": 28,
      "outputs": [
        {
          "output_type": "stream",
          "name": "stdout",
          "text": [
            "Model: \"sequential_4\"\n",
            "_________________________________________________________________\n",
            " Layer (type)                Output Shape              Param #   \n",
            "=================================================================\n",
            " conv2d_9 (Conv2D)           (None, 222, 222, 16)      448       \n",
            "                                                                 \n",
            " max_pooling2d_9 (MaxPooling  (None, 111, 111, 16)     0         \n",
            " 2D)                                                             \n",
            "                                                                 \n",
            " conv2d_10 (Conv2D)          (None, 109, 109, 32)      4640      \n",
            "                                                                 \n",
            " max_pooling2d_10 (MaxPoolin  (None, 54, 54, 32)       0         \n",
            " g2D)                                                            \n",
            "                                                                 \n",
            " conv2d_11 (Conv2D)          (None, 52, 52, 64)        18496     \n",
            "                                                                 \n",
            " max_pooling2d_11 (MaxPoolin  (None, 26, 26, 64)       0         \n",
            " g2D)                                                            \n",
            "                                                                 \n",
            " flatten_4 (Flatten)         (None, 43264)             0         \n",
            "                                                                 \n",
            " dense_8 (Dense)             (None, 512)               22151680  \n",
            "                                                                 \n",
            " dense_9 (Dense)             (None, 1)                 513       \n",
            "                                                                 \n",
            "=================================================================\n",
            "Total params: 22,175,777\n",
            "Trainable params: 22,175,777\n",
            "Non-trainable params: 0\n",
            "_________________________________________________________________\n"
          ]
        }
      ]
    },
    {
      "cell_type": "code",
      "source": [
        "from tensorflow.python import metrics\n",
        "model.compile(optimizer=keras.optimizers.RMSprop(learning_rate=0.01),\n",
        "              loss=keras.losses.BinaryCrossentropy(),\n",
        "              metrics=['accuracy'])"
      ],
      "metadata": {
        "id": "bxIdDtsoA1bt"
      },
      "execution_count": 29,
      "outputs": []
    },
    {
      "cell_type": "code",
      "source": [
        "model.fit(train_generator,steps_per_epoch=len(train_generator),epochs=100)"
      ],
      "metadata": {
        "colab": {
          "base_uri": "https://localhost:8080/"
        },
        "id": "JPBeEFobBKSY",
        "outputId": "c0949ab8-e4e8-4585-ff10-cc7ab385353e"
      },
      "execution_count": 30,
      "outputs": [
        {
          "output_type": "stream",
          "name": "stdout",
          "text": [
            "Epoch 1/100\n",
            "3/3 [==============================] - 1s 120ms/step - loss: 863.6257 - accuracy: 0.5833\n",
            "Epoch 2/100\n",
            "3/3 [==============================] - 0s 106ms/step - loss: 2.6263 - accuracy: 0.6250\n",
            "Epoch 3/100\n",
            "3/3 [==============================] - 0s 95ms/step - loss: 1.3472 - accuracy: 0.3333\n",
            "Epoch 4/100\n",
            "3/3 [==============================] - 0s 106ms/step - loss: 9.2639 - accuracy: 0.6667\n",
            "Epoch 5/100\n",
            "3/3 [==============================] - 0s 95ms/step - loss: 4.2830 - accuracy: 0.3333\n",
            "Epoch 6/100\n",
            "3/3 [==============================] - 0s 140ms/step - loss: 0.6729 - accuracy: 0.6667\n",
            "Epoch 7/100\n",
            "3/3 [==============================] - 0s 96ms/step - loss: 0.6554 - accuracy: 0.6667\n",
            "Epoch 8/100\n",
            "3/3 [==============================] - 0s 140ms/step - loss: 0.8250 - accuracy: 0.6250\n",
            "Epoch 9/100\n",
            "3/3 [==============================] - 0s 138ms/step - loss: 7.0294 - accuracy: 0.4167\n",
            "Epoch 10/100\n",
            "3/3 [==============================] - 0s 98ms/step - loss: 0.6686 - accuracy: 0.6667\n",
            "Epoch 11/100\n",
            "3/3 [==============================] - 0s 97ms/step - loss: 0.6654 - accuracy: 0.6667\n",
            "Epoch 12/100\n",
            "3/3 [==============================] - 0s 139ms/step - loss: 0.6502 - accuracy: 0.6667\n",
            "Epoch 13/100\n",
            "3/3 [==============================] - 0s 100ms/step - loss: 0.6563 - accuracy: 0.6667\n",
            "Epoch 14/100\n",
            "3/3 [==============================] - 0s 94ms/step - loss: 0.6347 - accuracy: 0.6667\n",
            "Epoch 15/100\n",
            "3/3 [==============================] - 0s 99ms/step - loss: 0.8249 - accuracy: 0.6667\n",
            "Epoch 16/100\n",
            "3/3 [==============================] - 0s 98ms/step - loss: 0.6452 - accuracy: 0.6667\n",
            "Epoch 17/100\n",
            "3/3 [==============================] - 0s 99ms/step - loss: 0.6448 - accuracy: 0.6667\n",
            "Epoch 18/100\n",
            "3/3 [==============================] - 0s 139ms/step - loss: 0.6428 - accuracy: 0.6667\n",
            "Epoch 19/100\n",
            "3/3 [==============================] - 0s 135ms/step - loss: 0.6425 - accuracy: 0.6667\n",
            "Epoch 20/100\n",
            "3/3 [==============================] - 0s 146ms/step - loss: 0.8138 - accuracy: 0.3333\n",
            "Epoch 21/100\n",
            "3/3 [==============================] - 0s 99ms/step - loss: 0.5948 - accuracy: 0.6250\n",
            "Epoch 22/100\n",
            "3/3 [==============================] - 0s 107ms/step - loss: 5.4770 - accuracy: 0.6667\n",
            "Epoch 23/100\n",
            "3/3 [==============================] - 0s 140ms/step - loss: 0.6404 - accuracy: 0.6667\n",
            "Epoch 24/100\n",
            "3/3 [==============================] - 0s 142ms/step - loss: 0.6477 - accuracy: 0.6667\n",
            "Epoch 25/100\n",
            "3/3 [==============================] - 0s 102ms/step - loss: 0.6499 - accuracy: 0.6667\n",
            "Epoch 26/100\n",
            "3/3 [==============================] - 0s 97ms/step - loss: 0.6420 - accuracy: 0.6667\n",
            "Epoch 27/100\n",
            "3/3 [==============================] - 0s 96ms/step - loss: 0.6406 - accuracy: 0.6667\n",
            "Epoch 28/100\n",
            "3/3 [==============================] - 0s 97ms/step - loss: 0.6420 - accuracy: 0.6667\n",
            "Epoch 29/100\n",
            "3/3 [==============================] - 0s 93ms/step - loss: 0.6396 - accuracy: 0.6667\n",
            "Epoch 30/100\n",
            "3/3 [==============================] - 0s 97ms/step - loss: 0.6393 - accuracy: 0.6667\n",
            "Epoch 31/100\n",
            "3/3 [==============================] - 0s 96ms/step - loss: 0.6385 - accuracy: 0.6667\n",
            "Epoch 32/100\n",
            "3/3 [==============================] - 0s 142ms/step - loss: 0.6423 - accuracy: 0.6667\n",
            "Epoch 33/100\n",
            "3/3 [==============================] - 0s 96ms/step - loss: 0.6370 - accuracy: 0.6667\n",
            "Epoch 34/100\n",
            "3/3 [==============================] - 0s 96ms/step - loss: 0.6409 - accuracy: 0.6667\n",
            "Epoch 35/100\n",
            "3/3 [==============================] - 0s 97ms/step - loss: 0.6380 - accuracy: 0.6667\n",
            "Epoch 36/100\n",
            "3/3 [==============================] - 0s 98ms/step - loss: 0.6474 - accuracy: 0.6667\n",
            "Epoch 37/100\n",
            "3/3 [==============================] - 0s 97ms/step - loss: 0.6407 - accuracy: 0.6667\n",
            "Epoch 38/100\n",
            "3/3 [==============================] - 0s 100ms/step - loss: 0.6465 - accuracy: 0.6667\n",
            "Epoch 39/100\n",
            "3/3 [==============================] - 0s 98ms/step - loss: 19.0628 - accuracy: 0.5833\n",
            "Epoch 40/100\n",
            "3/3 [==============================] - 0s 100ms/step - loss: 1.5921 - accuracy: 0.6667\n",
            "Epoch 41/100\n",
            "3/3 [==============================] - 0s 142ms/step - loss: 15.5090 - accuracy: 0.5833\n",
            "Epoch 42/100\n",
            "3/3 [==============================] - 0s 101ms/step - loss: 0.6392 - accuracy: 0.6667\n",
            "Epoch 43/100\n",
            "3/3 [==============================] - 0s 103ms/step - loss: 0.6385 - accuracy: 0.6667\n",
            "Epoch 44/100\n",
            "3/3 [==============================] - 0s 139ms/step - loss: 0.6400 - accuracy: 0.6667\n",
            "Epoch 45/100\n",
            "3/3 [==============================] - 0s 141ms/step - loss: 0.6373 - accuracy: 0.6667\n",
            "Epoch 46/100\n",
            "3/3 [==============================] - 0s 99ms/step - loss: 0.6387 - accuracy: 0.6667\n",
            "Epoch 47/100\n",
            "3/3 [==============================] - 0s 139ms/step - loss: 0.6411 - accuracy: 0.6667\n",
            "Epoch 48/100\n",
            "3/3 [==============================] - 0s 101ms/step - loss: 0.6389 - accuracy: 0.6667\n",
            "Epoch 49/100\n",
            "3/3 [==============================] - 0s 137ms/step - loss: 0.6375 - accuracy: 0.6667\n",
            "Epoch 50/100\n",
            "3/3 [==============================] - 0s 96ms/step - loss: 0.6375 - accuracy: 0.6667\n",
            "Epoch 51/100\n",
            "3/3 [==============================] - 0s 106ms/step - loss: 0.6398 - accuracy: 0.6667\n",
            "Epoch 52/100\n",
            "3/3 [==============================] - 0s 102ms/step - loss: 0.6457 - accuracy: 0.6667\n",
            "Epoch 53/100\n",
            "3/3 [==============================] - 0s 139ms/step - loss: 0.6428 - accuracy: 0.6667\n",
            "Epoch 54/100\n",
            "3/3 [==============================] - 0s 141ms/step - loss: 0.6454 - accuracy: 0.6667\n",
            "Epoch 55/100\n",
            "3/3 [==============================] - 0s 95ms/step - loss: 0.6375 - accuracy: 0.6667\n",
            "Epoch 56/100\n",
            "3/3 [==============================] - 0s 141ms/step - loss: 0.6399 - accuracy: 0.6667\n",
            "Epoch 57/100\n",
            "3/3 [==============================] - 0s 98ms/step - loss: 0.6397 - accuracy: 0.6667\n",
            "Epoch 58/100\n",
            "3/3 [==============================] - 0s 96ms/step - loss: 0.6371 - accuracy: 0.6667\n",
            "Epoch 59/100\n",
            "3/3 [==============================] - 0s 102ms/step - loss: 0.6412 - accuracy: 0.6667\n",
            "Epoch 60/100\n",
            "3/3 [==============================] - 0s 144ms/step - loss: 0.6374 - accuracy: 0.6667\n",
            "Epoch 61/100\n",
            "3/3 [==============================] - 0s 98ms/step - loss: 0.6408 - accuracy: 0.6667\n",
            "Epoch 62/100\n",
            "3/3 [==============================] - 0s 96ms/step - loss: 0.6410 - accuracy: 0.6667\n",
            "Epoch 63/100\n",
            "3/3 [==============================] - 0s 133ms/step - loss: 0.6378 - accuracy: 0.6667\n",
            "Epoch 64/100\n",
            "3/3 [==============================] - 0s 102ms/step - loss: 0.6414 - accuracy: 0.6667\n",
            "Epoch 65/100\n",
            "3/3 [==============================] - 0s 93ms/step - loss: 0.6374 - accuracy: 0.6667\n",
            "Epoch 66/100\n",
            "3/3 [==============================] - 0s 94ms/step - loss: 0.6449 - accuracy: 0.6667\n",
            "Epoch 67/100\n",
            "3/3 [==============================] - 0s 101ms/step - loss: 0.6384 - accuracy: 0.6667\n",
            "Epoch 68/100\n",
            "3/3 [==============================] - 0s 150ms/step - loss: 0.6482 - accuracy: 0.6667\n",
            "Epoch 69/100\n",
            "3/3 [==============================] - 0s 108ms/step - loss: 0.6395 - accuracy: 0.6667\n",
            "Epoch 70/100\n",
            "3/3 [==============================] - 0s 150ms/step - loss: 0.6381 - accuracy: 0.6667\n",
            "Epoch 71/100\n",
            "3/3 [==============================] - 0s 99ms/step - loss: 0.6398 - accuracy: 0.6667\n",
            "Epoch 72/100\n",
            "3/3 [==============================] - 0s 96ms/step - loss: 0.6419 - accuracy: 0.6667\n",
            "Epoch 73/100\n",
            "3/3 [==============================] - 0s 98ms/step - loss: 0.6372 - accuracy: 0.6667\n",
            "Epoch 74/100\n",
            "3/3 [==============================] - 0s 103ms/step - loss: 0.6405 - accuracy: 0.6667\n",
            "Epoch 75/100\n",
            "3/3 [==============================] - 0s 101ms/step - loss: 0.6376 - accuracy: 0.6667\n",
            "Epoch 76/100\n",
            "3/3 [==============================] - 0s 137ms/step - loss: 0.6464 - accuracy: 0.6667\n",
            "Epoch 77/100\n",
            "3/3 [==============================] - 0s 95ms/step - loss: 0.6488 - accuracy: 0.6667\n",
            "Epoch 78/100\n",
            "3/3 [==============================] - 0s 97ms/step - loss: 0.6452 - accuracy: 0.6667\n",
            "Epoch 79/100\n",
            "3/3 [==============================] - 0s 105ms/step - loss: 0.6520 - accuracy: 0.6667\n",
            "Epoch 80/100\n",
            "3/3 [==============================] - 0s 134ms/step - loss: 0.6402 - accuracy: 0.6667\n",
            "Epoch 81/100\n",
            "3/3 [==============================] - 0s 93ms/step - loss: 0.6473 - accuracy: 0.6667\n",
            "Epoch 82/100\n",
            "3/3 [==============================] - 0s 144ms/step - loss: 0.6401 - accuracy: 0.6667\n",
            "Epoch 83/100\n",
            "3/3 [==============================] - 0s 138ms/step - loss: 0.6375 - accuracy: 0.6667\n",
            "Epoch 84/100\n",
            "3/3 [==============================] - 0s 95ms/step - loss: 0.6461 - accuracy: 0.6667\n",
            "Epoch 85/100\n",
            "3/3 [==============================] - 0s 110ms/step - loss: 0.6386 - accuracy: 0.6667\n",
            "Epoch 86/100\n",
            "3/3 [==============================] - 0s 103ms/step - loss: 0.6374 - accuracy: 0.6667\n",
            "Epoch 87/100\n",
            "3/3 [==============================] - 0s 105ms/step - loss: 0.6518 - accuracy: 0.6667\n",
            "Epoch 88/100\n",
            "3/3 [==============================] - 0s 94ms/step - loss: 0.6397 - accuracy: 0.6667\n",
            "Epoch 89/100\n",
            "3/3 [==============================] - 0s 104ms/step - loss: 0.6423 - accuracy: 0.6667\n",
            "Epoch 90/100\n",
            "3/3 [==============================] - 0s 150ms/step - loss: 0.6387 - accuracy: 0.6667\n",
            "Epoch 91/100\n",
            "3/3 [==============================] - 0s 141ms/step - loss: 0.6398 - accuracy: 0.6667\n",
            "Epoch 92/100\n",
            "3/3 [==============================] - 0s 98ms/step - loss: 0.6424 - accuracy: 0.6667\n",
            "Epoch 93/100\n",
            "3/3 [==============================] - 0s 100ms/step - loss: 0.6421 - accuracy: 0.6667\n",
            "Epoch 94/100\n",
            "3/3 [==============================] - 0s 150ms/step - loss: 0.6447 - accuracy: 0.6667\n",
            "Epoch 95/100\n",
            "3/3 [==============================] - 0s 153ms/step - loss: 0.6387 - accuracy: 0.6667\n",
            "Epoch 96/100\n",
            "3/3 [==============================] - 0s 106ms/step - loss: 0.6416 - accuracy: 0.6667\n",
            "Epoch 97/100\n",
            "3/3 [==============================] - 0s 157ms/step - loss: 0.6413 - accuracy: 0.6667\n",
            "Epoch 98/100\n",
            "3/3 [==============================] - 0s 101ms/step - loss: 0.6423 - accuracy: 0.6667\n",
            "Epoch 99/100\n",
            "3/3 [==============================] - 0s 148ms/step - loss: 0.6418 - accuracy: 0.6667\n",
            "Epoch 100/100\n",
            "3/3 [==============================] - 0s 101ms/step - loss: 0.6398 - accuracy: 0.6667\n"
          ]
        },
        {
          "output_type": "execute_result",
          "data": {
            "text/plain": [
              "<keras.callbacks.History at 0x7fb91f24f3d0>"
            ]
          },
          "metadata": {},
          "execution_count": 30
        }
      ]
    },
    {
      "cell_type": "code",
      "source": [
        "from tensorflow.keras.preprocessing import image"
      ],
      "metadata": {
        "id": "4tv-JHnPBXNs"
      },
      "execution_count": 31,
      "outputs": []
    },
    {
      "cell_type": "code",
      "source": [
        "im = image.load_img('Your_image_path',target_size=(224,224))"
      ],
      "metadata": {
        "id": "4WLhvGhMDi_p"
      },
      "execution_count": 48,
      "outputs": []
    },
    {
      "cell_type": "markdown",
      "source": [
        ""
      ],
      "metadata": {
        "id": "HB6joR2NEZIs"
      }
    },
    {
      "cell_type": "code",
      "source": [
        "from matplotlib import pyplot as plt\n"
      ],
      "metadata": {
        "id": "8xBXuULhG7s9"
      },
      "execution_count": 50,
      "outputs": []
    },
    {
      "cell_type": "code",
      "source": [
        "im = image.img_to_array(im)"
      ],
      "metadata": {
        "id": "w4EyQcNYDsg-"
      },
      "execution_count": 49,
      "outputs": []
    },
    {
      "cell_type": "code",
      "source": [
        "plt.imshow(im)"
      ],
      "metadata": {
        "colab": {
          "base_uri": "https://localhost:8080/",
          "height": 304
        },
        "id": "cYsZtweYHI0d",
        "outputId": "627be6e4-250a-49db-ef55-0545f6de1a70"
      },
      "execution_count": 51,
      "outputs": [
        {
          "output_type": "stream",
          "name": "stderr",
          "text": [
            "WARNING:matplotlib.image:Clipping input data to the valid range for imshow with RGB data ([0..1] for floats or [0..255] for integers).\n"
          ]
        },
        {
          "output_type": "execute_result",
          "data": {
            "text/plain": [
              "<matplotlib.image.AxesImage at 0x7fb91e29f590>"
            ]
          },
          "metadata": {},
          "execution_count": 51
        },
        {
          "output_type": "display_data",
          "data": {
            "text/plain": [
              "<Figure size 432x288 with 1 Axes>"
            ],
            "image/png": "[encoded data removed]"
          },
          "metadata": {
            "needs_background": "light"
          }
        }
      ]
    },
    {
      "cell_type": "code",
      "source": [
        "im.shape"
      ],
      "metadata": {
        "colab": {
          "base_uri": "https://localhost:8080/"
        },
        "id": "qAElwU90Dxdy",
        "outputId": "c35f5b0f-b836-4115-d57e-1467a9e8aedb"
      },
      "execution_count": 52,
      "outputs": [
        {
          "output_type": "execute_result",
          "data": {
            "text/plain": [
              "(224, 224, 3)"
            ]
          },
          "metadata": {},
          "execution_count": 52
        }
      ]
    },
    {
      "cell_type": "code",
      "source": [
        "import numpy as np"
      ],
      "metadata": {
        "id": "nKfszZ59DypM"
      },
      "execution_count": 53,
      "outputs": []
    },
    {
      "cell_type": "code",
      "source": [
        "x = np.expand_dims(im, axis=0)"
      ],
      "metadata": {
        "id": "1xeXFitXD43Z"
      },
      "execution_count": 54,
      "outputs": []
    },
    {
      "cell_type": "code",
      "source": [
        "p = model.predict(x)[0]"
      ],
      "metadata": {
        "id": "1abNY8wLED5Y"
      },
      "execution_count": 55,
      "outputs": []
    },
    {
      "cell_type": "code",
      "source": [
        "if p>0.5:\n",
        "  print(\"Smile\")\n",
        "else:\n",
        "  print(\"sad\")"
      ],
      "metadata": {
        "colab": {
          "base_uri": "https://localhost:8080/"
        },
        "id": "-yzHGrxCEH-5",
        "outputId": "899de40f-3c88-4180-8b49-914f5f62da23"
      },
      "execution_count": 56,
      "outputs": [
        {
          "output_type": "stream",
          "name": "stdout",
          "text": [
            "sad\n"
          ]
        }
      ]
    },
    {
      "cell_type": "code",
      "source": [
        ""
      ],
      "metadata": {
        "id": "wTCcAaB_EVdM"
      },
      "execution_count": null,
      "outputs": []
    }
  ]
}